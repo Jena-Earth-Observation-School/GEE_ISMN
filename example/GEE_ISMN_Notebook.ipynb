{
 "cells": [
  {
   "cell_type": "markdown",
   "metadata": {},
   "source": [
    "# The ISMN_GEE Package."
   ]
  },
  {
   "cell_type": "markdown",
   "metadata": {},
   "source": [
    "## Table of Contents\n",
    "1. Import of required Python modules\n",
    "2. Setup\n",
    "3. Preprocessing\n",
    "4. Google Earth Engine (GEE)\n",
    "5. Postprocessing\n",
    "6. Visualization"
   ]
  },
  {
   "cell_type": "markdown",
   "metadata": {},
   "source": [
    "## 1. Import of required Python modules"
   ]
  },
  {
   "cell_type": "code",
   "execution_count": null,
   "metadata": {},
   "outputs": [],
   "source": [
    "from GEE_ISMN import setup_pkg as pkg\n",
    "from GEE_ISMN import preprocess as prep\n",
    "from GEE_ISMN import earthengine as earth\n",
    "from GEE_ISMN import postprocess as post\n",
    "from GEE_ISMN import visualization as vis"
   ]
  },
  {
   "cell_type": "markdown",
   "metadata": {},
   "source": [
    "## 2. Setup\n",
    "Before the start, a few things need to be set up. The ISMN datasets which should be analysed needs to be in a subdirectory of the working directory called ./data/ISMN. \n",
    "The function setup_pkg() checks if the directory exists and creats a new directory called ISMN_Filt in the data directory where the filltered ISMN files will be stored.\n",
    "Also it will initialize the Google Earth Engine (GEE) API and checks if the credentials are existing. If not, the function will ask to authenticate.\n",
    "At last you will be ask if you want to extract backscatter values for the point coordinates of each station (Option 0) or if you want calculated mean backscatter values for a bounding box of each location (Option 1)."
   ]
  },
  {
   "cell_type": "code",
   "execution_count": null,
   "metadata": {},
   "outputs": [],
   "source": [
    "user_input = pkg.setup_pkg()"
   ]
  },
  {
   "cell_type": "markdown",
   "metadata": {},
   "source": [
    "## Preprocessing\n",
    "In the preprocessing, the data is checked if it contains soil moisture measurements and will be filtered for a specific measurement depth which can be set as a parameter in the data_handling() function. Standardized the measurment depth will be 0.05 m. "
   ]
  },
  {
   "cell_type": "code",
   "execution_count": null,
   "metadata": {},
   "outputs": [],
   "source": [
    "prep.data_handling(measurement_depth=0.05)"
   ]
  },
  {
   "cell_type": "markdown",
   "metadata": {},
   "source": [
    "The filtered data can than be saved to a dictionary with the function data.import(). It will write an entry for every station and sensor used. \n",
    "Also the function creates an CSV-File \"stations.csv\" which contains the coordinates and the name of each entry. "
   ]
  },
  {
   "cell_type": "code",
   "execution_count": null,
   "metadata": {},
   "outputs": [],
   "source": [
    "data_dict = prep.data_import()"
   ]
  },
  {
   "cell_type": "markdown",
   "metadata": {},
   "source": [
    "## 4. Google Earth Engine\n",
    "The filtered data will than be filtered again, this time by landcover type. Therefore the data_dict contains the data and the input_dict the user inputs from the setup. The landcover types can be set through the parameter landcover_ids. Standardized are the values 40 (clutivated and managed vegetation / agriculture) and 60 (Bare / sparse vegetation). <br>\n",
    "The landcover ids for the different landcovers can be retrieved [here](https://developers.google.com/earth-engine/datasets/catalog/COPERNICUS_Landcover_100m_Proba-V_Global)."
   ]
  },
  {
   "cell_type": "code",
   "execution_count": null,
   "metadata": {},
   "outputs": [],
   "source": [
    "data_dict = earth.lc_filter(data_dict, input_dict, landcover_ids=None)"
   ]
  },
  {
   "cell_type": "markdown",
   "metadata": {},
   "source": [
    "Now we got only the locations we are interested in. The next step is now to retrieve the backscatter values for these locations. "
   ]
  },
  {
   "cell_type": "code",
   "execution_count": null,
   "metadata": {},
   "outputs": [],
   "source": [
    "data_dict = earth.get_s1_backscatter(data_dict)"
   ]
  },
  {
   "cell_type": "markdown",
   "metadata": {},
   "source": [
    "## 5. Postprocessing"
   ]
  },
  {
   "cell_type": "markdown",
   "metadata": {},
   "source": [
    "Because there are just limited recordings of Sentinel-1 data and much more soil moisture data, just the soil moisture value immediatley before the Sentinel-1 recording will be kept."
   ]
  },
  {
   "cell_type": "code",
   "execution_count": null,
   "metadata": {},
   "outputs": [],
   "source": [
    "data_dict = post.filter_s1(data_dict)"
   ]
  },
  {
   "cell_type": "markdown",
   "metadata": {},
   "source": [
    "## 6. Visualization"
   ]
  },
  {
   "cell_type": "markdown",
   "metadata": {},
   "source": [
    "For visualization, we need the station names which were created in preprocessing and saved to the CSV-File \"stations.csv\". The name is a combination of the Network, the station and the sensor."
   ]
  },
  {
   "cell_type": "code",
   "execution_count": null,
   "metadata": {},
   "outputs": [],
   "source": [
    "station_name = 'REMEDHUS-Guarrati-Stevens-Hydra-Probe'"
   ]
  },
  {
   "cell_type": "markdown",
   "metadata": {},
   "source": []
  },
  {
   "cell_type": "code",
   "execution_count": null,
   "metadata": {},
   "outputs": [],
   "source": [
    "vis.show_map(data_dict, station_name)\n",
    "img = vis.show_s1(data_dict, station_name, date)"
   ]
  },
  {
   "cell_type": "markdown",
   "metadata": {},
   "source": [
    "With the function plot_data() it is possible to plot the specific data of a station with the needed orbit or polarization. It will show a Graph in which the ISMN soil moisture data is plotted against the Sentinel-1 backscatter values over time. <br>\n",
    "The standard for the orbit will be \"desc\" for descending, but can also be choosen as \"asc\" for ascending.<br>\n",
    "For the polarisation the options are \"VH\" and \"VV\"."
   ]
  },
  {
   "cell_type": "code",
   "execution_count": null,
   "metadata": {},
   "outputs": [],
   "source": [
    "vis.plot_data(data_dict, station_name, orbit=None, pol=None)"
   ]
  }
 ],
 "metadata": {
  "kernelspec": {
   "display_name": "Python 3",
   "language": "python",
   "name": "python3"
  },
  "language_info": {
   "codemirror_mode": {
    "name": "ipython",
    "version": 3
   },
   "file_extension": ".py",
   "mimetype": "text/x-python",
   "name": "python",
   "nbconvert_exporter": "python",
   "pygments_lexer": "ipython3",
   "version": "3.7.3"
  }
 },
 "nbformat": 4,
 "nbformat_minor": 2
}
