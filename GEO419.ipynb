{
  "nbformat": 4,
  "nbformat_minor": 0,
  "metadata": {
    "colab": {
      "name": "GEO419.ipynb",
      "provenance": [],
      "collapsed_sections": [
        "h_kABSqfOvcs"
      ],
      "include_colab_link": true
    },
    "kernelspec": {
      "name": "python3",
      "display_name": "Python 3"
    }
  },
  "cells": [
    {
      "cell_type": "markdown",
      "metadata": {
        "id": "view-in-github",
        "colab_type": "text"
      },
      "source": [
        "<a href=\"https://colab.research.google.com/github/maawoo/GEO419/blob/master/GEO419.ipynb\" target=\"_parent\"><img src=\"https://colab.research.google.com/assets/colab-badge.svg\" alt=\"Open In Colab\"/></a>"
      ]
    },
    {
      "cell_type": "markdown",
      "metadata": {
        "id": "0LAjB34-Qid4",
        "colab_type": "text"
      },
      "source": [
        "### Some useful resources \n",
        "\n",
        "[Colab: Install & Use Python EE API](https://developers.google.com/earth-engine/python_install-colab)\n",
        "\n",
        "[Colab: Github](https://colab.research.google.com/github/googlecolab/colabtools/blob/master/notebooks/colab-github-demo.ipynb) \n",
        "\n",
        "https://developers.google.com/earth-engine/sentinel1\n",
        "\n",
        "[Important info about S1 dB values!](https://groups.google.com/forum/#!searchin/google-earth-engine-developers/pixel$20backscatter|sort:date/google-earth-engine-developers/QCWykrLLvZ0/mk7mwjAbAAAJ)\n",
        "\n",
        "[Source of EE_Library functions](https://github.com/crisjosil/Sentinel_Earth_Engine/blob/master/Earth_Engine_scripts/EE_library.py)"
      ]
    },
    {
      "cell_type": "markdown",
      "metadata": {
        "id": "h_kABSqfOvcs",
        "colab_type": "text"
      },
      "source": [
        "### Initialize Earth Engine "
      ]
    },
    {
      "cell_type": "code",
      "metadata": {
        "id": "SxvEzQtJf-3_",
        "colab_type": "code",
        "colab": {}
      },
      "source": [
        "#!pip install earthengine-api"
      ],
      "execution_count": 0,
      "outputs": []
    },
    {
      "cell_type": "code",
      "metadata": {
        "id": "ILpdMD00goj0",
        "colab_type": "code",
        "outputId": "f9d8a868-fe3c-4158-a499-ebad12ea76e6",
        "colab": {
          "base_uri": "https://localhost:8080/",
          "height": 187
        }
      },
      "source": [
        "import ee\n",
        "ee.Authenticate()\n",
        "ee.Initialize()\n"
      ],
      "execution_count": 3,
      "outputs": [
        {
          "output_type": "stream",
          "text": [
            "To authorize access needed by Earth Engine, open the following URL in a web browser and follow the instructions. If the web browser does not start automatically, please manually browse the URL below.\n",
            "\n",
            "    https://accounts.google.com/o/oauth2/auth?client_id=517222506229-vsmmajv00ul0bs7p89v5m89qs8eb9359.apps.googleusercontent.com&scope=https%3A%2F%2Fwww.googleapis.com%2Fauth%2Fearthengine+https%3A%2F%2Fwww.googleapis.com%2Fauth%2Fdevstorage.full_control&redirect_uri=urn%3Aietf%3Awg%3Aoauth%3A2.0%3Aoob&response_type=code\n",
            "\n",
            "The authorization workflow will generate a code, which you should paste in the box below. \n",
            "Enter verification code: 4/tAFdFCChNNQyBhOAOntFjwLGhgndnE2-4RwahrSCgxBraok6eT9Vxjk\n",
            "\n",
            "Successfully saved authorization token.\n"
          ],
          "name": "stdout"
        }
      ]
    },
    {
      "cell_type": "code",
      "metadata": {
        "id": "55Y51jscO_6z",
        "colab_type": "code",
        "outputId": "6ecc7689-afa9-4a1f-c0b7-b7d153d5fa9f",
        "colab": {
          "base_uri": "https://localhost:8080/",
          "height": 36
        }
      },
      "source": [
        "# Test: Print the elevation of Mount Everest.\n",
        "dem = ee.Image('USGS/SRTMGL1_003')\n",
        "xy = ee.Geometry.Point([86.9250, 27.9881])\n",
        "elev = dem.sample(xy, 30).first().get('elevation').getInfo()\n",
        "print('Mount Everest elevation (m):', elev)\n"
      ],
      "execution_count": 4,
      "outputs": [
        {
          "output_type": "stream",
          "text": [
            "Mount Everest elevation (m): 8729\n"
          ],
          "name": "stdout"
        }
      ]
    },
    {
      "cell_type": "markdown",
      "metadata": {
        "id": "FIh0iUXkiMlM",
        "colab_type": "text"
      },
      "source": [
        "### Test 1: Backscatter timeseries for one location\n"
      ]
    },
    {
      "cell_type": "code",
      "metadata": {
        "id": "2JF3INWWBKo4",
        "colab_type": "code",
        "colab": {}
      },
      "source": [
        "import numpy as np\n",
        "import pandas as pd\n",
        "import datetime\n",
        "import matplotlib\n",
        "import matplotlib.pyplot as plt\n"
      ],
      "execution_count": 0,
      "outputs": []
    },
    {
      "cell_type": "code",
      "metadata": {
        "id": "VsczqVyBiS_c",
        "colab_type": "code",
        "outputId": "4e0a9c97-eedc-495c-dd09-e803eaccb820",
        "colab": {
          "base_uri": "https://localhost:8080/",
          "height": 36
        }
      },
      "source": [
        "### Define location geometry\n",
        "geo1 = ee.Geometry.Point([11.469602842013614, 50.95131882751624])\n",
        "geo1_sq = geo1.buffer(10).bounds() #20x20m rectangle\n",
        "\n",
        "### Load & filter the Sentinel-1 Image Collection\n",
        "mode = ee.Filter.eq('instrumentMode', 'IW')\n",
        "res = ee.Filter.eq('resolution', 'H') \n",
        "#pol = ee.Filter.listContains('transmitterReceiverPolarisation', 'VV') \n",
        "\n",
        "s1 = ee.ImageCollection('COPERNICUS/S1_GRD').filter(mode).filter(res).filterBounds(geo1)\n",
        "  \n",
        "s1_desc = s1.filter(ee.Filter.eq('orbitProperties_pass', 'DESCENDING'))\n",
        "s1_asc = s1.filter(ee.Filter.eq('orbitProperties_pass', 'ASCENDING'))\n",
        "\n",
        "count_desc = s1_desc.size().getInfo()\n",
        "count_asc = s1_asc.size().getInfo()\n",
        "print(\"Filter result: \" + str(count_desc) + \" descending and \" + str(count_asc) + \" ascending images.\")\n"
      ],
      "execution_count": 6,
      "outputs": [
        {
          "output_type": "stream",
          "text": [
            "Filter result: 479 descending and 473 ascending images.\n"
          ],
          "name": "stdout"
        }
      ]
    },
    {
      "cell_type": "code",
      "metadata": {
        "id": "ZA8roXNaMQTJ",
        "colab_type": "code",
        "colab": {}
      },
      "source": [
        "def get_S1_date(out):\n",
        "    \"\"\" Obtains the SAR image acquisition date from the product ID\n",
        "    Args:\n",
        "        out (List of dictionaries): Each dictionary corresponds to the sentinel1 info of an image\n",
        "    Returns:\n",
        "        Dates : A list of the acquisition dates\n",
        "    \"\"\"\n",
        "    Dates = np.zeros(len(out)).tolist()\n",
        "    VH = np.zeros(len(out)).tolist()\n",
        "    VV = np.zeros(len(out)).tolist()\n",
        "    angle = np.zeros(len(out)).tolist()\n",
        "    df = pd.DataFrame()\n",
        "    for i in range(len(out)):\n",
        "        a = out[i]['id']\n",
        "        b = a.split(sep='_')\n",
        "        #b1=b[4].split(sep='T')\n",
        "        #b2=b1[0]\n",
        "        b2 = b[4].replace('T', ' ')\n",
        "        Dates[i] = datetime.datetime.strptime(b2, \"%Y%m%d %H%M%S\")\n",
        "        VH[i] = out[i]['VH']\n",
        "        VV[i] = out[i]['VV']\n",
        "        angle[i] = out[i]['angle']\n",
        "  \n",
        "    df['Dates'] = Dates\n",
        "    df['VH'] = VH\n",
        "    df['VV'] = VV\n",
        "    df['angle'] = angle\n",
        "    df.set_index('Dates', inplace = True)\n",
        "    return(df)"
      ],
      "execution_count": 0,
      "outputs": []
    },
    {
      "cell_type": "code",
      "metadata": {
        "id": "8CWAl0tTJ3Zx",
        "colab_type": "code",
        "colab": {}
      },
      "source": [
        "def Time_series_of_a_point(Img_collection,point,title):\n",
        "  \n",
        "    l = Img_collection.filterBounds(point).getRegion(point, 30).getInfo()\n",
        "    out = [dict(zip(l[0], values)) for values in l[1:]]\n",
        "    df = get_S1_date(out)\n",
        "    df = df.sort_index(axis = 0)\n",
        "\n",
        "    return(df) "
      ],
      "execution_count": 0,
      "outputs": []
    },
    {
      "cell_type": "code",
      "metadata": {
        "id": "o4WDjpJdL-gC",
        "colab_type": "code",
        "colab": {}
      },
      "source": [
        "test = Time_series_of_a_point(s1_desc, geo1, \"Test\")\n"
      ],
      "execution_count": 0,
      "outputs": []
    },
    {
      "cell_type": "code",
      "metadata": {
        "id": "bF5Q0dx1Rhae",
        "colab_type": "code",
        "outputId": "955f012f-70a6-4172-c388-42446dda054b",
        "colab": {
          "base_uri": "https://localhost:8080/",
          "height": 455
        }
      },
      "source": [
        "test"
      ],
      "execution_count": 15,
      "outputs": [
        {
          "output_type": "execute_result",
          "data": {
            "text/html": [
              "<div>\n",
              "<style scoped>\n",
              "    .dataframe tbody tr th:only-of-type {\n",
              "        vertical-align: middle;\n",
              "    }\n",
              "\n",
              "    .dataframe tbody tr th {\n",
              "        vertical-align: top;\n",
              "    }\n",
              "\n",
              "    .dataframe thead th {\n",
              "        text-align: right;\n",
              "    }\n",
              "</style>\n",
              "<table border=\"1\" class=\"dataframe\">\n",
              "  <thead>\n",
              "    <tr style=\"text-align: right;\">\n",
              "      <th></th>\n",
              "      <th>VH</th>\n",
              "      <th>VV</th>\n",
              "      <th>angle</th>\n",
              "    </tr>\n",
              "    <tr>\n",
              "      <th>Dates</th>\n",
              "      <th></th>\n",
              "      <th></th>\n",
              "      <th></th>\n",
              "    </tr>\n",
              "  </thead>\n",
              "  <tbody>\n",
              "    <tr>\n",
              "      <th>2014-10-05 05:25:15</th>\n",
              "      <td>-23.067422</td>\n",
              "      <td>-12.196128</td>\n",
              "      <td>39.696533</td>\n",
              "    </tr>\n",
              "    <tr>\n",
              "      <th>2014-10-10 05:33:28</th>\n",
              "      <td>-21.185482</td>\n",
              "      <td>-6.468938</td>\n",
              "      <td>30.482449</td>\n",
              "    </tr>\n",
              "    <tr>\n",
              "      <th>2014-10-17 05:25:15</th>\n",
              "      <td>-19.348592</td>\n",
              "      <td>-9.602576</td>\n",
              "      <td>39.698639</td>\n",
              "    </tr>\n",
              "    <tr>\n",
              "      <th>2014-10-22 05:33:29</th>\n",
              "      <td>-15.300986</td>\n",
              "      <td>-5.624447</td>\n",
              "      <td>30.511314</td>\n",
              "    </tr>\n",
              "    <tr>\n",
              "      <th>2014-11-03 05:33:28</th>\n",
              "      <td>-17.833520</td>\n",
              "      <td>-7.159839</td>\n",
              "      <td>30.480713</td>\n",
              "    </tr>\n",
              "    <tr>\n",
              "      <th>...</th>\n",
              "      <td>...</td>\n",
              "      <td>...</td>\n",
              "      <td>...</td>\n",
              "    </tr>\n",
              "    <tr>\n",
              "      <th>2019-10-26 05:33:12</th>\n",
              "      <td>-23.575622</td>\n",
              "      <td>-10.134603</td>\n",
              "      <td>30.413422</td>\n",
              "    </tr>\n",
              "    <tr>\n",
              "      <th>2019-10-27 05:25:58</th>\n",
              "      <td>-23.082217</td>\n",
              "      <td>-15.746799</td>\n",
              "      <td>39.644314</td>\n",
              "    </tr>\n",
              "    <tr>\n",
              "      <th>2019-11-01 05:34:11</th>\n",
              "      <td>-21.374514</td>\n",
              "      <td>-8.730334</td>\n",
              "      <td>30.372702</td>\n",
              "    </tr>\n",
              "    <tr>\n",
              "      <th>2019-11-02 05:25:19</th>\n",
              "      <td>-18.543008</td>\n",
              "      <td>-11.905937</td>\n",
              "      <td>39.650154</td>\n",
              "    </tr>\n",
              "    <tr>\n",
              "      <th>2019-11-07 05:33:19</th>\n",
              "      <td>-20.555445</td>\n",
              "      <td>-7.403168</td>\n",
              "      <td>30.426737</td>\n",
              "    </tr>\n",
              "  </tbody>\n",
              "</table>\n",
              "<p>479 rows × 3 columns</p>\n",
              "</div>"
            ],
            "text/plain": [
              "                            VH         VV      angle\n",
              "Dates                                               \n",
              "2014-10-05 05:25:15 -23.067422 -12.196128  39.696533\n",
              "2014-10-10 05:33:28 -21.185482  -6.468938  30.482449\n",
              "2014-10-17 05:25:15 -19.348592  -9.602576  39.698639\n",
              "2014-10-22 05:33:29 -15.300986  -5.624447  30.511314\n",
              "2014-11-03 05:33:28 -17.833520  -7.159839  30.480713\n",
              "...                        ...        ...        ...\n",
              "2019-10-26 05:33:12 -23.575622 -10.134603  30.413422\n",
              "2019-10-27 05:25:58 -23.082217 -15.746799  39.644314\n",
              "2019-11-01 05:34:11 -21.374514  -8.730334  30.372702\n",
              "2019-11-02 05:25:19 -18.543008 -11.905937  39.650154\n",
              "2019-11-07 05:33:19 -20.555445  -7.403168  30.426737\n",
              "\n",
              "[479 rows x 3 columns]"
            ]
          },
          "metadata": {
            "tags": []
          },
          "execution_count": 15
        }
      ]
    },
    {
      "cell_type": "code",
      "metadata": {
        "id": "b05VPGhQntEo",
        "colab_type": "code",
        "outputId": "8ad89ec2-a521-4c0b-c1e7-106aee8cfd84",
        "colab": {
          "base_uri": "https://localhost:8080/",
          "height": 269
        }
      },
      "source": [
        "test.reset_index().plot(x='Dates', y='VV')\n",
        "plt.show()"
      ],
      "execution_count": 16,
      "outputs": [
        {
          "output_type": "display_data",
          "data": {
            "image/png": "[encoded data removed]",
            "text/plain": [
              "<Figure size 432x288 with 1 Axes>"
            ]
          },
          "metadata": {
            "tags": []
          }
        }
      ]
    }
  ]
}