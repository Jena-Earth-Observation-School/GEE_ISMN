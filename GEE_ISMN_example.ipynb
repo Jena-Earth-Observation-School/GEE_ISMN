{
 "cells": [
  {
   "cell_type": "markdown",
   "metadata": {},
   "source": [
    "# The GEE_ISMN Package"
   ]
  },
  {
   "cell_type": "markdown",
   "metadata": {},
   "source": [
    "## Table of Contents\n",
    "1. Install & Import modules\n",
    "2. Setup\n",
    "3. Preprocessing\n",
    "4. Google Earth Engine (GEE)\n",
    "5. Postprocessing\n",
    "6. Visualization"
   ]
  },
  {
   "cell_type": "markdown",
   "metadata": {},
   "source": [
    "## 1. Install & Import modules"
   ]
  },
  {
   "cell_type": "code",
   "execution_count": 4,
   "metadata": {},
   "outputs": [
    {
     "name": "stdout",
     "output_type": "stream",
     "text": [
      "Requirement already satisfied: ismn in c:\\users\\marco\\miniconda3\\lib\\site-packages (0.3.2)\n",
      "Requirement already satisfied: matplotlib in c:\\users\\marco\\miniconda3\\lib\\site-packages (from ismn) (3.2.0)\n",
      "Requirement already satisfied: more-itertools in c:\\users\\marco\\miniconda3\\lib\\site-packages (from ismn) (8.2.0)\n",
      "Requirement already satisfied: pygeogrids in c:\\users\\marco\\miniconda3\\lib\\site-packages (from ismn) (0.2.6)\n",
      "Requirement already satisfied: scipy in c:\\users\\marco\\miniconda3\\lib\\site-packages (from ismn) (1.4.1)\n",
      "Requirement already satisfied: numpy in c:\\users\\marco\\miniconda3\\lib\\site-packages (from ismn) (1.18.1)\n",
      "Requirement already satisfied: configparser in c:\\users\\marco\\miniconda3\\lib\\site-packages (from ismn) (4.0.2)\n",
      "Requirement already satisfied: cython in c:\\users\\marco\\miniconda3\\lib\\site-packages (from ismn) (0.29.15)\n",
      "Requirement already satisfied: pandas in c:\\users\\marco\\miniconda3\\lib\\site-packages (from ismn) (1.0.1)\n",
      "Requirement already satisfied: python-dateutil>=2.1 in c:\\users\\marco\\miniconda3\\lib\\site-packages (from matplotlib->ismn) (2.8.1)\n",
      "Requirement already satisfied: kiwisolver>=1.0.1 in c:\\users\\marco\\miniconda3\\lib\\site-packages (from matplotlib->ismn) (1.1.0)\n",
      "Requirement already satisfied: cycler>=0.10 in c:\\users\\marco\\miniconda3\\lib\\site-packages (from matplotlib->ismn) (0.10.0)\n",
      "Requirement already satisfied: pyparsing!=2.0.4,!=2.1.2,!=2.1.6,>=2.0.1 in c:\\users\\marco\\miniconda3\\lib\\site-packages (from matplotlib->ismn) (2.4.6)\n",
      "Requirement already satisfied: pyproj in c:\\users\\marco\\miniconda3\\lib\\site-packages (from pygeogrids->ismn) (2.5.0)\n",
      "Requirement already satisfied: netcdf4 in c:\\users\\marco\\miniconda3\\lib\\site-packages (from pygeogrids->ismn) (1.5.3)\n",
      "Requirement already satisfied: pytz>=2017.2 in c:\\users\\marco\\miniconda3\\lib\\site-packages (from pandas->ismn) (2019.3)\n",
      "Requirement already satisfied: six>=1.5 in c:\\users\\marco\\miniconda3\\lib\\site-packages (from python-dateutil>=2.1->matplotlib->ismn) (1.14.0)\n",
      "Requirement already satisfied: setuptools in c:\\users\\marco\\miniconda3\\lib\\site-packages (from kiwisolver>=1.0.1->matplotlib->ismn) (45.2.0.post20200209)\n",
      "Requirement already satisfied: cftime in c:\\users\\marco\\miniconda3\\lib\\site-packages (from netcdf4->pygeogrids->ismn) (1.1.0)\n"
     ]
    },
    {
     "name": "stderr",
     "output_type": "stream",
     "text": [
      "c:\\users\\marco\\miniconda3\\python.exe: can't open file 'pip': [Errno 2] No such file or directory\n"
     ]
    }
   ],
   "source": [
    "import sys\n",
    "!{sys.executable} -m pip install ismn\n",
    "!{sys.executable} -m pip install geehydro"
   ]
  },
  {
   "cell_type": "code",
   "execution_count": 5,
   "metadata": {},
   "outputs": [
    {
     "name": "stdout",
     "output_type": "stream",
     "text": [
      "Collecting package metadata (current_repodata.json): ...working... done\n",
      "Solving environment: ...working... done\n",
      "\n",
      "## Package Plan ##\n",
      "\n",
      "  environment location: c:\\users\\marco\\miniconda3\n",
      "\n",
      "  added / updated specs:\n",
      "    - earthengine-api\n",
      "\n",
      "\n",
      "The following packages will be UPDATED:\n",
      "\n",
      "  earthengine-api                              0.1.210-py_0 --> 0.1.214-py_0\n",
      "\n",
      "\n",
      "Preparing transaction: ...working... done\n",
      "Verifying transaction: ...working... done\n",
      "Executing transaction: ...working... done\n",
      "\n",
      "Note: you may need to restart the kernel to use updated packages.\n"
     ]
    }
   ],
   "source": [
    "conda install -c conda-forge earthengine-api"
   ]
  },
  {
   "cell_type": "code",
   "execution_count": 6,
   "metadata": {},
   "outputs": [],
   "source": [
    "from GEE_ISMN import setup_pkg as pkg\n",
    "from GEE_ISMN import preprocess as prep\n",
    "from GEE_ISMN import earthengine as earth\n",
    "from GEE_ISMN import postprocess as post\n",
    "from GEE_ISMN import visualization as vis"
   ]
  },
  {
   "cell_type": "markdown",
   "metadata": {},
   "source": [
    "## 2. Setup\n",
    "Before the start, a few things need to be set up. The ISMN datasets which should be analysed needs to be in a subdirectory of the working directory called ./data/ISMN. \n",
    "The function setup_pkg() checks if the directory exists and creats a new directory called ISMN_Filt in the data directory where the filltered ISMN files will be stored.\n",
    "Also it will initialize the Google Earth Engine (GEE) API and checks if the credentials are existing. If not, the function will ask to authenticate.\n",
    "At last you will be ask if you want to extract backscatter values for the point coordinates of each station (Option 0) or if you want calculated mean backscatter values for a bounding box of each location (Option 1)."
   ]
  },
  {
   "cell_type": "code",
   "execution_count": 7,
   "metadata": {},
   "outputs": [
    {
     "name": "stdout",
     "output_type": "stream",
     "text": [
      "Directory  ./data/ISMN_Filt/  already exists.\n",
      "Do you want to extract... \n",
      " backscatter values for the pixel coordinate (input: 0) \n",
      " or the mean backscatter value for a box surrounding the pixel coordinate (input: 1)?0\n"
     ]
    }
   ],
   "source": [
    "user_input = pkg.setup_pkg()"
   ]
  },
  {
   "cell_type": "markdown",
   "metadata": {},
   "source": [
    "## Preprocessing\n",
    "In the preprocessing, the data is checked if it contains soil moisture measurements and will be filtered for a specific measurement depth which can be set as a parameter in the data_handling() function. Standardized the measurment depth will be 0.05 m. "
   ]
  },
  {
   "cell_type": "code",
   "execution_count": 8,
   "metadata": {},
   "outputs": [
    {
     "name": "stdout",
     "output_type": "stream",
     "text": [
      "226 ISMN files were found in './data/ISMN/'. \n",
      "66 ISMN files with a measurement depth of 0.05 were copied to './data/ISMN_Filt/'\n"
     ]
    }
   ],
   "source": [
    "prep.data_handling(measurement_depth=0.05)"
   ]
  },
  {
   "cell_type": "markdown",
   "metadata": {},
   "source": [
    "The filtered data can than be saved to a dictionary with the function data.import(). It will write an entry for every station and sensor used. \n",
    "Also the function creates an CSV-File \"stations.csv\" which contains the coordinates and the name of each entry. "
   ]
  },
  {
   "cell_type": "code",
   "execution_count": 9,
   "metadata": {},
   "outputs": [],
   "source": [
    "data_dict = prep.data_import()"
   ]
  },
  {
   "cell_type": "markdown",
   "metadata": {},
   "source": [
    "## 4. Google Earth Engine\n",
    "The filtered data will than be filtered again, this time by landcover type. Therefore the data_dict contains the data and the input_dict the user inputs from the setup. The landcover types can be set through the parameter landcover_ids. Standardized are the values 40 (clutivated and managed vegetation / agriculture) and 60 (Bare / sparse vegetation). <br>\n",
    "The landcover ids for the different landcovers can be retrieved [here](https://developers.google.com/earth-engine/datasets/catalog/COPERNICUS_Landcover_100m_Proba-V_Global)."
   ]
  },
  {
   "cell_type": "code",
   "execution_count": 11,
   "metadata": {},
   "outputs": [
    {
     "name": "stdout",
     "output_type": "stream",
     "text": [
      "26 out of 66 locations remain after applying the land cover filter.\n"
     ]
    }
   ],
   "source": [
    "data_dict = earth.lc_filter(data_dict, user_input, landcover_ids=None)"
   ]
  },
  {
   "cell_type": "markdown",
   "metadata": {},
   "source": [
    "Now we got only the locations we are interested in. The next step is now to retrieve the backscatter values for these locations. "
   ]
  },
  {
   "cell_type": "code",
   "execution_count": null,
   "metadata": {},
   "outputs": [],
   "source": [
    "data_dict = earth.get_s1_backscatter(data_dict)"
   ]
  },
  {
   "cell_type": "markdown",
   "metadata": {},
   "source": [
    "## 5. Postprocessing"
   ]
  },
  {
   "cell_type": "markdown",
   "metadata": {},
   "source": [
    "Because there are just limited recordings of Sentinel-1 data and much more soil moisture data, just the soil moisture value immediatley before the Sentinel-1 recording will be kept."
   ]
  },
  {
   "cell_type": "code",
   "execution_count": null,
   "metadata": {},
   "outputs": [],
   "source": [
    "data_dict = post.filter_s1(data_dict)"
   ]
  },
  {
   "cell_type": "markdown",
   "metadata": {},
   "source": [
    "## 6. Visualization"
   ]
  },
  {
   "cell_type": "markdown",
   "metadata": {},
   "source": [
    "For visualization, we need the station names which were created in preprocessing and saved to the CSV-File \"stations.csv\". The name is a combination of the Network, the station and the sensor."
   ]
  },
  {
   "cell_type": "code",
   "execution_count": null,
   "metadata": {},
   "outputs": [],
   "source": [
    "station_name = 'REMEDHUS-Guarrati-Stevens-Hydra-Probe'"
   ]
  },
  {
   "cell_type": "markdown",
   "metadata": {},
   "source": []
  },
  {
   "cell_type": "code",
   "execution_count": null,
   "metadata": {},
   "outputs": [],
   "source": [
    "vis.show_map(data_dict, station_name)\n",
    "img = vis.show_s1(data_dict, station_name, date)"
   ]
  },
  {
   "cell_type": "markdown",
   "metadata": {},
   "source": [
    "With the function plot_data() it is possible to plot the specific data of a station with the needed orbit or polarization. It will show a Graph in which the ISMN soil moisture data is plotted against the Sentinel-1 backscatter values over time. <br>\n",
    "The standard for the orbit will be \"desc\" for descending, but can also be choosen as \"asc\" for ascending.<br>\n",
    "For the polarisation the options are \"VH\" and \"VV\"."
   ]
  },
  {
   "cell_type": "code",
   "execution_count": null,
   "metadata": {},
   "outputs": [],
   "source": [
    "vis.plot_data(data_dict, station_name, orbit=None, pol=None)"
   ]
  }
 ],
 "metadata": {
  "kernelspec": {
   "display_name": "Python 3",
   "language": "python",
   "name": "python3"
  },
  "language_info": {
   "codemirror_mode": {
    "name": "ipython",
    "version": 3
   },
   "file_extension": ".py",
   "mimetype": "text/x-python",
   "name": "python",
   "nbconvert_exporter": "python",
   "pygments_lexer": "ipython3",
   "version": "3.7.4"
  }
 },
 "nbformat": 4,
 "nbformat_minor": 2
}
